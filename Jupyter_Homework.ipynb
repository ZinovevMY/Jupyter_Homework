{
 "cells": [
  {
   "cell_type": "code",
   "execution_count": null,
   "id": "4f4403f0",
   "metadata": {},
   "outputs": [],
   "source": [
    "#f(x) =0.6x^3+5.5x^2+10x -5\n",
    "\n",
    "\n",
    "\n",
    "\n"
   ]
  },
  {
   "cell_type": "code",
   "execution_count": 1,
   "id": "461b2999",
   "metadata": {},
   "outputs": [],
   "source": [
    "from sympy import *\n",
    "a = 0.6\n",
    "b = 5.5\n",
    "c = 10\n",
    "d = -5\n",
    "\n",
    "x = Symbol('x')\n",
    "f_x = a * (x**3) + b * (x**2) + c * x + d"
   ]
  },
  {
   "cell_type": "code",
   "execution_count": 4,
   "id": "4d64a861",
   "metadata": {},
   "outputs": [
    {
     "data": {
      "text/latex": [
       "$\\displaystyle 0.6 x^{3} + 5.5 x^{2} + 10 x - 5$"
      ],
      "text/plain": [
       "0.6*x**3 + 5.5*x**2 + 10*x - 5"
      ]
     },
     "execution_count": 4,
     "metadata": {},
     "output_type": "execute_result"
    }
   ],
   "source": [
    "f_x"
   ]
  },
  {
   "cell_type": "code",
   "execution_count": 6,
   "id": "7409eaa1",
   "metadata": {},
   "outputs": [
    {
     "name": "stdout",
     "output_type": "stream",
     "text": [
      "корень 1: -6.32174537314726 + 5.29395592033938e-23*I\n",
      "корень 2: -3.25046383307744 - 1.05879118406788e-22*I\n",
      "корень 3: 0.405542539558034 - 3.3881317890172e-21*I\n"
     ]
    }
   ],
   "source": [
    "# Определить корни\n",
    "print(f\"корень 1: {solve(f_x,x)[0].n()}\")\n",
    "print(f\"корень 2: {solve(f_x,x)[1].n()}\")\n",
    "print(f\"корень 3: {solve(f_x,x)[2].n()}\")"
   ]
  },
  {
   "cell_type": "code",
   "execution_count": 16,
   "id": "e80eaab2",
   "metadata": {},
   "outputs": [
    {
     "data": {
      "text/latex": [
       "$\\displaystyle \\left(-1.11111111111111 < x \\wedge x < \\infty\\right) \\vee \\left(-\\infty < x \\wedge x < -5.0\\right)$"
      ],
      "text/plain": [
       "((-1.11111111111111 < x) & (x < oo)) | ((-oo < x) & (x < -5.0))"
      ]
     },
     "execution_count": 16,
     "metadata": {},
     "output_type": "execute_result"
    }
   ],
   "source": [
    "# Найти интервалы, на которых функция возрастает\n",
    "derivative = diff(f_x)\n",
    "solve(derivative > 0)"
   ]
  },
  {
   "cell_type": "code",
   "execution_count": 21,
   "id": "464d58b9",
   "metadata": {},
   "outputs": [
    {
     "data": {
      "text/latex": [
       "$\\displaystyle -5.0 < x \\wedge x < -1.11111111111111$"
      ],
      "text/plain": [
       "(-5.0 < x) & (x < -1.11111111111111)"
      ]
     },
     "execution_count": 21,
     "metadata": {},
     "output_type": "execute_result"
    }
   ],
   "source": [
    "# Найти интервалы, на которых функция убывает\n",
    "solve(derivative < 0)"
   ]
  },
  {
   "cell_type": "code",
   "execution_count": 14,
   "id": "a8e63f19",
   "metadata": {},
   "outputs": [
    {
     "data": {
      "image/png": "[encoded data removed]",
      "text/plain": [
       "<Figure size 640x480 with 1 Axes>"
      ]
     },
     "metadata": {},
     "output_type": "display_data"
    }
   ],
   "source": [
    "# Построить график\n",
    "from sympy.plotting import plot\n",
    "\n",
    "gr = plot(f_x,(x,-15,5), line_color = \"blue\", title = \"График функции\")"
   ]
  },
  {
   "cell_type": "code",
   "execution_count": 19,
   "id": "7c5f0690",
   "metadata": {},
   "outputs": [
    {
     "data": {
      "text/plain": [
       "[-5.00000000000000, -1.11111111111111]"
      ]
     },
     "execution_count": 19,
     "metadata": {},
     "output_type": "execute_result"
    }
   ],
   "source": [
    "# Вычислить вершину\n",
    "solve(Eq(derivative,0))"
   ]
  },
  {
   "cell_type": "code",
   "execution_count": 24,
   "id": "ab2b2996",
   "metadata": {},
   "outputs": [
    {
     "data": {
      "text/latex": [
       "$\\displaystyle \\left(-3.25046383307744 < x \\wedge x < 0.405542539558034\\right) \\vee \\left(-\\infty < x \\wedge x < -6.32174537314726\\right)$"
      ],
      "text/plain": [
       "((-3.25046383307744 < x) & (x < 0.405542539558034)) | ((-oo < x) & (x < -6.32174537314726))"
      ]
     },
     "execution_count": 24,
     "metadata": {},
     "output_type": "execute_result"
    }
   ],
   "source": [
    "# Определить промежутки, на котором f < 0\n",
    "solve(f_x < 0)"
   ]
  },
  {
   "cell_type": "code",
   "execution_count": 25,
   "id": "fe65a535",
   "metadata": {},
   "outputs": [
    {
     "data": {
      "text/latex": [
       "$\\displaystyle \\left(-6.32174537314726 < x \\wedge x < -3.25046383307744\\right) \\vee \\left(0.405542539558034 < x \\wedge x < \\infty\\right)$"
      ],
      "text/plain": [
       "((-6.32174537314726 < x) & (x < -3.25046383307744)) | ((0.405542539558034 < x) & (x < oo))"
      ]
     },
     "execution_count": 25,
     "metadata": {},
     "output_type": "execute_result"
    }
   ],
   "source": [
    "# Определить промежутки, на котором f > 0\n",
    "solve(f_x > 0)"
   ]
  },
  {
   "cell_type": "code",
   "execution_count": 27,
   "id": "75b6d13f",
   "metadata": {},
   "outputs": [
    {
     "name": "stderr",
     "output_type": "stream",
     "text": [
      "warning: in the working copy of '.ipynb_checkpoints/Jupyter seminar-checkpoint.ipynb', LF will be replaced by CRLF the next time Git touches it\n",
      "warning: in the working copy of '.ipynb_checkpoints/Jupyter_Homework-checkpoint.ipynb', LF will be replaced by CRLF the next time Git touches it\n",
      "warning: in the working copy of '.ipynb_checkpoints/Untitled-checkpoint.ipynb', LF will be replaced by CRLF the next time Git touches it\n",
      "warning: in the working copy of 'Jupyter_Homework.ipynb', LF will be replaced by CRLF the next time Git touches it\n"
     ]
    }
   ],
   "source": [
    "git "
   ]
  }
 ],
 "metadata": {
  "kernelspec": {
   "display_name": "Python 3 (ipykernel)",
   "language": "python",
   "name": "python3"
  },
  "language_info": {
   "codemirror_mode": {
    "name": "ipython",
    "version": 3
   },
   "file_extension": ".py",
   "mimetype": "text/x-python",
   "name": "python",
   "nbconvert_exporter": "python",
   "pygments_lexer": "ipython3",
   "version": "3.9.13"
  }
 },
 "nbformat": 4,
 "nbformat_minor": 5
}
